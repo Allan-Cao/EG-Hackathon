{
 "cells": [
  {
   "cell_type": "code",
   "execution_count": 220,
   "id": "57a244c3-31ac-4033-b2d7-6c02226ce4c6",
   "metadata": {},
   "outputs": [],
   "source": [
    "import pandas as pd\n",
    "from collections import defaultdict\n",
    "\n",
    "# Load the data\n",
    "df = pd.read_parquet('game_summary.parquet')"
   ]
  },
  {
   "cell_type": "code",
   "execution_count": 158,
   "id": "fc97b2d6-c9d2-465c-b538-f4760adcbb8d",
   "metadata": {},
   "outputs": [],
   "source": [
    "unique_teams = list(set(df['team_1_name']).union(df['team_2_name']))\n",
    "pick_times = {'blue': {'B1': [1], 'B2-B3': [4, 5], 'B4-B5': [8, 9]}, 'red': {'R1-R2': [2, 3], 'R3': [6], 'R4': [7], 'R5': [10]}]}\n",
    "roles = ['top', 'jng', 'mid', 'bot', 'sup']"
   ]
  },
  {
   "cell_type": "code",
   "execution_count": 192,
   "id": "05ea13db-face-40f2-a3c7-9043a81828e4",
   "metadata": {},
   "outputs": [],
   "source": [
    "flattened_data = []\n",
    "for team_name in unique_teams:\n",
    "    for side, prefix in [('blue', 'team_1'), ('red', 'team_2')]:\n",
    "        team_games = df[df[f\"{prefix}_name\"] == team_name]\n",
    "        total_games = len(team_games)\n",
    "        for role in roles:\n",
    "            counts = team_games[f\"{prefix}_{role}_pick_num\"].value_counts()\n",
    "            pick_time_tuples = list(pick_times[side].items())\n",
    "            additional_tuples = [('phase_one', range(1, 7)), ('phase_two', range(7, 11))]\n",
    "            all_tuples = pick_time_tuples + additional_tuples\n",
    "            \n",
    "            for pick_group, pick_order in all_tuples:\n",
    "                total_counts = sum([counts.get(i, 0) for i in pick_order])\n",
    "                data = {\"count\": total_counts, \"total_games\": total_games, \"percentage\": total_counts / total_games * 100, \"team\": team_name, \"pick_group\": pick_group, \"role\": role, \"side\": side}\n",
    "                flattened_data.append(data)\n",
    "processed_data = pd.DataFrame(flattened_data)"
   ]
  },
  {
   "cell_type": "code",
   "execution_count": 197,
   "id": "ee13f18c-3b66-4f9a-bafc-3817ac78a858",
   "metadata": {
    "scrolled": true
   },
   "outputs": [
    {
     "data": {
      "text/html": [
       "\n",
       "        <iframe\n",
       "            width=\"100%\"\n",
       "            height=\"650\"\n",
       "            src=\"http://127.0.0.1:8050/\"\n",
       "            frameborder=\"0\"\n",
       "            allowfullscreen\n",
       "            \n",
       "        ></iframe>\n",
       "        "
      ],
      "text/plain": [
       "<IPython.lib.display.IFrame at 0x127cea904f0>"
      ]
     },
     "metadata": {},
     "output_type": "display_data"
    }
   ],
   "source": [
    "# Importing required libraries\n",
    "import dash\n",
    "from dash import dcc, html, Input, Output\n",
    "import plotly.express as px\n",
    "\n",
    "# Initialize the Dash app\n",
    "app = dash.Dash(__name__)\n",
    "\n",
    "# Define the layout\n",
    "app.layout = html.Div([\n",
    "    html.H1('League of Legends Draft Analysis'),\n",
    "    dcc.Dropdown(\n",
    "        id='team-dropdown',\n",
    "        options=[\n",
    "            {'label': team, 'value': team}\n",
    "            for team in processed_data['team'].unique()\n",
    "        ],\n",
    "        value=processed_data['team'].iloc[0],  # Default value\n",
    "        multi=False  # Single-select\n",
    "    ),\n",
    "    dcc.Dropdown(\n",
    "        id='filter-dropdown',\n",
    "        options=[\n",
    "            {'label': 'Side', 'value': 'side'},\n",
    "            {'label': 'Phase', 'value': 'phase'}\n",
    "        ],\n",
    "        value='side',  # Default value\n",
    "        multi=False  # Single-select\n",
    "    ),\n",
    "    dcc.Dropdown(\n",
    "        id='side-select-dropdown',\n",
    "        options=[\n",
    "            {'label': 'Blue', 'value': 'blue'},\n",
    "            {'label': 'Red', 'value': 'red'}\n",
    "        ],\n",
    "        value='blue',  # Default value\n",
    "        multi=False  # Single-select\n",
    "    ),\n",
    "    dcc.Graph(\n",
    "        id='bar-plot'\n",
    "    )\n",
    "])\n",
    "\n",
    "# Callback to update the Plotly figure based on the dropdown selections\n",
    "@app.callback(\n",
    "    Output('bar-plot', 'figure'),\n",
    "    [Input('team-dropdown', 'value'),\n",
    "     Input('side-select-dropdown', 'value'),\n",
    "     Input('filter-dropdown', 'value')]\n",
    ")\n",
    "def update_graph(selected_team, side_select, filter_type):\n",
    "    filtered_df = processed_data[(processed_data['team'] == selected_team) & (processed_data['side'] == side_select)]\n",
    "\n",
    "    if filter_type == 'side':\n",
    "        condition = filtered_df['pick_group'].str.contains(r'B1|R1-R2|B2-B3|R3|B4-B5|R4|R5')\n",
    "    else:  # Phase\n",
    "        condition = filtered_df['pick_group'].str.contains('phase_one|phase_two')\n",
    "\n",
    "    filtered_df = filtered_df[condition]\n",
    "\n",
    "    role_order = ['top', 'jng', 'mid', 'bot', 'sup']\n",
    "\n",
    "    pick_group_order = [pg for pg in ['B1', 'R1-R2', 'B2-B3', 'R3', 'B4-B5', 'R4', 'R5'] if pg in filtered_df['pick_group'].unique()]\n",
    "\n",
    "    if filter_type == 'phase' and 'phase_one' in filtered_df['pick_group'].unique():\n",
    "        pick_group_order = ['phase_one', 'phase_two']\n",
    "\n",
    "    # Facet using the `facet_col` parameter\n",
    "    fig = px.bar(filtered_df,\n",
    "                 x='percentage', y='role', color='pick_group',\n",
    "                 title=f\"{selected_team} {side_select.capitalize()} Side: Role Pick %\",\n",
    "                 labels={'Percentage': '% of Picks'},\n",
    "                 facet_col='pick_group',  # This will break down the bar charts by pick group\n",
    "                 category_orders={'role': role_order, 'pick_group': pick_group_order})\n",
    "\n",
    "    # Adjust the layout to ensure the chart doesn't get too wide\n",
    "    fig.update_layout(autosize=True, margin=dict(t=50, b=50, l=50, r=50))\n",
    "\n",
    "    return fig\n",
    "\n",
    "# Run the Dash app\n",
    "if __name__ == '__main__':\n",
    "    app.run_server(debug=True)\n"
   ]
  },
  {
   "cell_type": "code",
   "execution_count": 12,
   "id": "1db20a5f-a709-4c32-95dc-cf5dfc750dcb",
   "metadata": {},
   "outputs": [],
   "source": [
    "import requests as r\n",
    "champions = r.get('https://ddragon.leagueoflegends.com/cdn/13.20.1/data/en_US/champion.json').json()\n",
    "champion_map = {key: champions['data'][key]['name'] for key in champions['data'].keys()}\n",
    "role_map = {'top': 'TOP', 'jng': 'JUNGLE', 'mid': 'MIDDLE', 'bot': 'BOTTOM', 'sup': 'UTILITY'}"
   ]
  },
  {
   "cell_type": "code",
   "execution_count": 247,
   "id": "5159cb91-28d1-469c-b6e8-f32e6465fcb1",
   "metadata": {},
   "outputs": [],
   "source": [
    "unique_teams = list(set(df['team_1_name']).union(df['team_2_name']))\n",
    "roles = ['top', 'jng', 'mid', 'bot', 'sup']\n",
    "flattened_data = []\n",
    "for team_name in unique_teams:\n",
    "        for role in roles:\n",
    "            team_1_games = df[df[\"team_1_name\"] == team_name]\n",
    "            team_2_games = df[df[\"team_2_name\"] == team_name]\n",
    "            total_counts = team_1_games[f\"team_1_{role}\"].value_counts().add(team_2_games[f\"team_2_{role}\"].value_counts(), fill_value=0)\n",
    "            total_counts = total_counts.sort_values(ascending=False)\n",
    "            \n",
    "            for champion, count in total_counts.items():\n",
    "                data = {\"count\": count, \"champion\": champion_map[champion], \"team\": team_name, \"role\": role_map[role]}\n",
    "                flattened_data.append(data)\n",
    "champion_pick_data = pd.DataFrame(flattened_data)"
   ]
  },
  {
   "cell_type": "code",
   "execution_count": 248,
   "id": "95fe962d-6a59-4d58-be8d-cd237ded8ce2",
   "metadata": {},
   "outputs": [],
   "source": [
    "champion_pick_data.to_csv('champion_pick_data.csv')"
   ]
  },
  {
   "cell_type": "code",
   "execution_count": 1,
   "id": "d906a849-b7d7-4270-9ec0-798198fbe956",
   "metadata": {},
   "outputs": [
    {
     "name": "stdout",
     "output_type": "stream",
     "text": [
      "From df1, game_time: 1, data: {'game_time': 1, 'data1': 'b'}\n",
      "From df2, game_time: 2, data: {'game_time': 2, 'data2': 'x'}\n",
      "From df1, game_time: 3, data: {'game_time': 3, 'data1': 'a'}\n",
      "From df2, game_time: 3, data: {'game_time': 3, 'data2': 'y'}\n",
      "From df1, game_time: 4, data: {'game_time': 4, 'data1': 'c'}\n",
      "From df2, game_time: 5, data: {'game_time': 5, 'data2': 'z'}\n"
     ]
    }
   ],
   "source": [
    "import pandas as pd\n",
    "\n",
    "# Sample dataframes\n",
    "df1 = pd.DataFrame({'game_time': [3, 1, 4], 'data1': ['a', 'b', 'c']})\n",
    "df2 = pd.DataFrame({'game_time': [2, 3, 5], 'data2': ['x', 'y', 'z']})\n",
    "\n",
    "# Concatenate with keys to create a multi-index\n",
    "combined_df = pd.concat([df1, df2], keys=['df1', 'df2'], sort=False)\n",
    "\n",
    "# Sort by 'game_time'\n",
    "sorted_combined_df = combined_df.sort_values(by='game_time')\n",
    "\n",
    "# Iterate\n",
    "for (source, _), row in sorted_combined_df.iterrows():\n",
    "    print(f\"From {source}, game_time: {row['game_time']}, data: {row.dropna().to_dict()}\")\n"
   ]
  },
  {
   "cell_type": "code",
   "execution_count": 14,
   "id": "5899d123-2689-4f19-a4fa-251cf68f11bc",
   "metadata": {},
   "outputs": [],
   "source": [
    "for champion, data in champions[\"data\"].items():\n",
    "    with open(f\"images/{champion_map[champion]}.png\", 'wb') as f:\n",
    "        f.write(r.get(f\"https://ddragon.leagueoflegends.com/cdn/13.19.1/img/champion/{data['image']['full']}\").content)"
   ]
  }
 ],
 "metadata": {
  "kernelspec": {
   "display_name": "Python 3 (ipykernel)",
   "language": "python",
   "name": "python3"
  },
  "language_info": {
   "codemirror_mode": {
    "name": "ipython",
    "version": 3
   },
   "file_extension": ".py",
   "mimetype": "text/x-python",
   "name": "python",
   "nbconvert_exporter": "python",
   "pygments_lexer": "ipython3",
   "version": "3.10.7"
  }
 },
 "nbformat": 4,
 "nbformat_minor": 5
}
